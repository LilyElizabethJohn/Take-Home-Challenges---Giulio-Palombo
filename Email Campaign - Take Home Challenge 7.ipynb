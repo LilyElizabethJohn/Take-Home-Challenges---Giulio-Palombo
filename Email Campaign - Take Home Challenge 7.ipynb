{
 "cells": [
  {
   "cell_type": "markdown",
   "metadata": {},
   "source": [
    "# Email Campaign - Take Home Challenge 7"
   ]
  },
  {
   "cell_type": "raw",
   "metadata": {},
   "source": [
    "Goal\n",
    "\n",
    "Optimizing marketing campaigns is one of the most common data science tasks.\n",
    "Among the many possible marketing tools, one of the most efficient is usin􀁎 emails.\n",
    "􀀬mails are great cause they are free and can be easily personalized. Email optimization\n",
    "involves personalizing the text and/or the subject, who should receive it, when should be\n",
    "sent, etc. Machine Learning excels at this."
   ]
  },
  {
   "cell_type": "raw",
   "metadata": {},
   "source": [
    "Challenge Description\n",
    "\n",
    "The marketing team of an e-commerce site has launched an email campaign. This site has email\n",
    "addresses from all the users who created an account in the past.\n",
    "They have chosen a random sample of users and emailed them. The email let the user know\n",
    "about a new feature implemented on the site. From the marketing team perspective, a success\n",
    "is if the user clicks on the link inside of the email. This link takes the user to the company site.\n",
    "You are in charge of figuring out how the email campaign performed and were asked the\n",
    "following questions:\n",
    "What percentage of users opened the email and what percentage clicked on the link\n",
    "within the email?\n",
    "The VP of marketing thinks that it is stupid to send emails to a random subset and in a\n",
    "random way. Based on all the information you have about the emails that were sent, can\n",
    "you build a model to optimize in future email campaigns to maximize the probability of\n",
    "users clicking on the link inside the email?\n",
    "By how much do you think your model would improve click through rate ( defined as # of\n",
    "users who click on the link / total users who received the email). How would you test\n",
    "that?\n",
    "Did you find any interesting pattern on how the email campaign performed for different\n",
    "segments of users? Explain."
   ]
  },
  {
   "cell_type": "raw",
   "metadata": {},
   "source": [
    "Data\n",
    "\n",
    "\"email_table\" - info about each email that was sent\n",
    "\n",
    "Columns:\n",
    "    \n",
    "    email_id : the Id of the email that was sent. It is unique by email\n",
    "    \n",
    "    email_text : there are two versions of the email: one has \"long text\" (i.e. has 4 paragraphs) \n",
    "        and one has \"short text\" (just 2 paragraphs)\n",
    "    \n",
    "    email_version : some emails were \"personalized\" (i.e. they had the name of the user receiving the email in the incipit, \n",
    "        such as \"Hi John,\"), while some emails were \"generic\" (the incipit was just \"Hi,\").\n",
    "    \n",
    "    hour : the user local time when the email was sent.\n",
    "    \n",
    "    weekday : the day when the email was sent.\n",
    "    \n",
    "    user_country : the country where the user receiving the email was based. It comes from the user ip address \n",
    "        when she created the account.\n",
    "    \n",
    "    user_past_purchases : how many items in the past were bought by the user receiving the email\n",
    "    \n",
    "\n",
    "\"email_opened_table\" - the id of the emails that were opened at least once.\n",
    "\n",
    "Columns:\n",
    "\n",
    "    email_id : the id of the emails that were opened, i.e. the user clicked on the email and,\n",
    "        supposedly, read it.\n",
    "        \n",
    "\"link_clicked_table\" - the id of the emails whose link inside was clicked at least once. This user was then brought to the site.\n",
    "    \n",
    "    email_id : if the user clicked on the link within the email, then the id of the email shows up on this table."
   ]
  },
  {
   "cell_type": "code",
   "execution_count": null,
   "metadata": {
    "collapsed": true
   },
   "outputs": [],
   "source": []
  }
 ],
 "metadata": {
  "kernelspec": {
   "display_name": "Python 3",
   "language": "python",
   "name": "python3"
  },
  "language_info": {
   "codemirror_mode": {
    "name": "ipython",
    "version": 3
   },
   "file_extension": ".py",
   "mimetype": "text/x-python",
   "name": "python",
   "nbconvert_exporter": "python",
   "pygments_lexer": "ipython3",
   "version": "3.6.2"
  }
 },
 "nbformat": 4,
 "nbformat_minor": 2
}
